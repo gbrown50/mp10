{
 "cells": [
  {
   "cell_type": "code",
   "execution_count": 2,
   "metadata": {
    "collapsed": true
   },
   "outputs": [],
   "source": [
    "import random"
   ]
  },
  {
   "cell_type": "code",
   "execution_count": 2,
   "metadata": {
    "collapsed": false
   },
   "outputs": [
    {
     "ename": "SyntaxError",
     "evalue": "invalid syntax (<ipython-input-2-b72a65e4c7f8>, line 8)",
     "output_type": "error",
     "traceback": [
      "\u001b[1;36m  File \u001b[1;32m\"<ipython-input-2-b72a65e4c7f8>\"\u001b[1;36m, line \u001b[1;32m8\u001b[0m\n\u001b[1;33m    if random.random() < (num_blue-1 / num_marbles - 1)\u001b[0m\n\u001b[1;37m                                                       ^\u001b[0m\n\u001b[1;31mSyntaxError\u001b[0m\u001b[1;31m:\u001b[0m invalid syntax\n"
     ]
    }
   ],
   "source": [
    "iterations = 10\n",
    "num_blue = 4\n",
    "num_marbles = 12\n",
    "blue_count = 0\n",
    "\n",
    "for i in range(100000):\n",
    "    if random.random() < num_blue/num_marbles:\n",
    "        if random.random() < (num_blue-1 / num_marbles - 1)\n",
    "        blue_count += 1\n",
    "print (blue_count/iterations)"
   ]
  },
  {
   "cell_type": "code",
   "execution_count": 3,
   "metadata": {
    "collapsed": false
   },
   "outputs": [
    {
     "ename": "IndentationError",
     "evalue": "expected an indented block (<ipython-input-3-8ec19195f5bb>, line 10)",
     "output_type": "error",
     "traceback": [
      "\u001b[1;36m  File \u001b[1;32m\"<ipython-input-3-8ec19195f5bb>\"\u001b[1;36m, line \u001b[1;32m10\u001b[0m\n\u001b[1;33m    blue_count += 1\u001b[0m\n\u001b[1;37m             ^\u001b[0m\n\u001b[1;31mIndentationError\u001b[0m\u001b[1;31m:\u001b[0m expected an indented block\n"
     ]
    }
   ],
   "source": [
    "iterations = 10\n",
    "num_blue = 4\n",
    "num_marbles = 12\n",
    "blue_count = 0\n",
    "\n",
    "for i in range(100000):\n",
    "    if random.random() < num_blue/num_marbles:\n",
    "        if random.random() < (num_blue-1 / num_marbles - 1):\n",
    "        \n",
    "        blue_count += 1\n",
    "print (blue_count/iterations)"
   ]
  },
  {
   "cell_type": "code",
   "execution_count": 4,
   "metadata": {
    "collapsed": false
   },
   "outputs": [
    {
     "name": "stdout",
     "output_type": "stream",
     "text": [
      "3330.3\n"
     ]
    }
   ],
   "source": [
    "iterations = 10\n",
    "num_blue = 4\n",
    "num_marbles = 12\n",
    "blue_count = 0\n",
    "\n",
    "for i in range(100000):\n",
    "    if random.random() < num_blue/num_marbles:\n",
    "        if random.random() < (num_blue-1 / num_marbles - 1):\n",
    "            blue_count += 1\n",
    "print (blue_count/iterations)"
   ]
  },
  {
   "cell_type": "code",
   "execution_count": 4,
   "metadata": {
    "collapsed": false
   },
   "outputs": [
    {
     "name": "stdout",
     "output_type": "stream",
     "text": [
      "0.33294\n"
     ]
    }
   ],
   "source": [
    "iterations = 100000\n",
    "num_blue = 4\n",
    "num_marbles = 12\n",
    "blue_count = 0\n",
    "\n",
    "for i in range(iterations):\n",
    "    if random.random() < num_blue/num_marbles:\n",
    "        if random.random() < (num_blue-1 / num_marbles - 1):\n",
    "            blue_count += 1\n",
    "print (blue_count/iterations)"
   ]
  },
  {
   "cell_type": "code",
   "execution_count": 3,
   "metadata": {
    "collapsed": false
   },
   "outputs": [
    {
     "name": "stdout",
     "output_type": "stream",
     "text": [
      "0.66841\n"
     ]
    }
   ],
   "source": [
    "iterations = 100000\n",
    "num_red = 8\n",
    "num_marbles = 12\n",
    "red_count = 0\n",
    "\n",
    "for i in range(iterations):\n",
    "    if random.random() < num_red/num_marbles:\n",
    "        if random.random() < (num_red - 1 / num_marbles - 1):\n",
    "            red_count += 1\n",
    "print (red_count/iterations)"
   ]
  },
  {
   "cell_type": "code",
   "execution_count": 13,
   "metadata": {
    "collapsed": false
   },
   "outputs": [
    {
     "name": "stdout",
     "output_type": "stream",
     "text": [
      "0.6\n",
      "red\n"
     ]
    }
   ],
   "source": [
    "iterations = 10\n",
    "num_red = 8\n",
    "num_marbles = 12\n",
    "red_count = 0\n",
    "\n",
    "\n",
    "for i in range(iterations):\n",
    "    if random.random() < num_red/num_marbles:\n",
    "        if random.random() < (num_red - 1 / num_marbles - 1):\n",
    "            red_count += 1\n",
    "answer = red_count/iterations\n",
    "print (answer)\n",
    "if answer < 0.7:\n",
    "    print (\"red\")"
   ]
  },
  {
   "cell_type": "code",
   "execution_count": null,
   "metadata": {
    "collapsed": true
   },
   "outputs": [],
   "source": []
  },
  {
   "cell_type": "code",
   "execution_count": null,
   "metadata": {
    "collapsed": true
   },
   "outputs": [],
   "source": []
  }
 ],
 "metadata": {
  "kernelspec": {
   "display_name": "Python 3",
   "language": "python",
   "name": "python3"
  },
  "language_info": {
   "codemirror_mode": {
    "name": "ipython",
    "version": 3
   },
   "file_extension": ".py",
   "mimetype": "text/x-python",
   "name": "python",
   "nbconvert_exporter": "python",
   "pygments_lexer": "ipython3",
   "version": "3.5.1"
  }
 },
 "nbformat": 4,
 "nbformat_minor": 0
}
