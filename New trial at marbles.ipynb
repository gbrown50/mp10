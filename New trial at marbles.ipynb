{
 "cells": [
  {
   "cell_type": "code",
   "execution_count": 1,
   "metadata": {
    "collapsed": true
   },
   "outputs": [],
   "source": [
    "import random"
   ]
  },
  {
   "cell_type": "markdown",
   "metadata": {},
   "source": [
    "## This is testing code to get blue"
   ]
  },
  {
   "cell_type": "code",
   "execution_count": 27,
   "metadata": {
    "collapsed": false
   },
   "outputs": [
    {
     "name": "stdout",
     "output_type": "stream",
     "text": [
      "0.22\n"
     ]
    }
   ],
   "source": [
    "iterations = 100\n",
    "marble_red = 8\n",
    "marble_blue = 4\n",
    "marbles_total = 12\n",
    "red_count = 0\n",
    "blue_count = 0\n",
    "\n",
    "for i in range(iterations):\n",
    "    blue_number = marble_blue/marbles_total\n",
    "    if random.random() < blue_number:\n",
    "        blue_count +=1\n",
    "answer_blue = blue_count/iterations\n",
    "print(answer_blue)\n"
   ]
  },
  {
   "cell_type": "markdown",
   "metadata": {},
   "source": [
    "## This is code to get red and blue"
   ]
  },
  {
   "cell_type": "code",
   "execution_count": 30,
   "metadata": {
    "collapsed": false
   },
   "outputs": [
    {
     "name": "stdout",
     "output_type": "stream",
     "text": [
      "0.3334279\n",
      "0.6668795\n"
     ]
    }
   ],
   "source": [
    "iterations = 10000000\n",
    "marble_red = 8\n",
    "marble_blue = 4\n",
    "marbles_total = 12\n",
    "red_count = 0\n",
    "blue_count = 0\n",
    "\n",
    "for i in range(iterations):\n",
    "    blue_number = marble_blue/marbles_total\n",
    "    if random.random() < blue_number:\n",
    "        blue_count +=1\n",
    "answer_blue = blue_count/iterations\n",
    "print(answer_blue)\n",
    "\n",
    "for i in range(iterations):\n",
    "    red_number = marble_red/marbles_total\n",
    "    if random.random() < red_number:\n",
    "        red_count +=1\n",
    "answer_red = red_count/iterations\n",
    "print(answer_red)"
   ]
  },
  {
   "cell_type": "markdown",
   "metadata": {},
   "source": [
    "## This is first attempt at coding the in class probability question to get all 6 permutations( red - blue - red,red - red,blue - blue,red - blue,blue)"
   ]
  },
  {
   "cell_type": "code",
   "execution_count": 31,
   "metadata": {
    "collapsed": false
   },
   "outputs": [
    {
     "name": "stdout",
     "output_type": "stream",
     "text": [
      "0.33167\n",
      "red\n",
      "0.669\n",
      "blue\n",
      "0.66437\n",
      "red,blue\n",
      "1.33502\n",
      "red,red\n",
      "0.99855\n",
      "blue,red\n",
      "2.00475\n"
     ]
    }
   ],
   "source": [
    "iterations = 100000\n",
    "marble_red = 8\n",
    "marble_blue = 4\n",
    "marbles_total = 12\n",
    "red_count = 0\n",
    "blue_count = 0\n",
    "\n",
    "for i in range(iterations):\n",
    "    blue_number = marble_blue/marbles_total\n",
    "    if random.random() < blue_number:\n",
    "        blue_count +=1\n",
    "answer_blue = blue_count/iterations\n",
    "print(answer_blue)\n",
    "print(\"red\")\n",
    "\n",
    "for i in range(iterations):\n",
    "    red_number = marble_red/marbles_total\n",
    "    if random.random() < red_number:\n",
    "        red_count +=1\n",
    "answer_red = red_count/iterations\n",
    "print(answer_red)\n",
    "print(\"blue\")\n",
    "\n",
    "if answer_red:\n",
    "    for i in range(iterations -1):\n",
    "        blue_number = marble_blue/marbles_total\n",
    "        if random.random() < blue_number:\n",
    "                blue_count +=1\n",
    "    answer_blue = blue_count/iterations\n",
    "    print(answer_blue)\n",
    "    print(\"red,blue\")\n",
    "\n",
    "    for i in range(iterations - 1):\n",
    "        red_number = marble_red/marbles_total\n",
    "        if random.random() < red_number:\n",
    "                red_count +=1\n",
    "    answer_red = red_count/iterations\n",
    "    print(answer_red)\n",
    "    print(\"red,red\")\n",
    "    \n",
    "if answer_blue:\n",
    "    for i in range(iterations -1):\n",
    "        blue_number = marble_blue/marbles_total\n",
    "        if random.random() < blue_number:\n",
    "                blue_count +=1\n",
    "    answer_blue = blue_count/iterations\n",
    "    print(answer_blue)\n",
    "    print(\"blue,red\")\n",
    "\n",
    "    for i in range(iterations - 1):\n",
    "        red_number = marble_red/marbles_total\n",
    "        if random.random() < red_number:\n",
    "                red_count +=1\n",
    "    answer_red = red_count/iterations\n",
    "    print(answer_red)"
   ]
  },
  {
   "cell_type": "code",
   "execution_count": null,
   "metadata": {
    "collapsed": true
   },
   "outputs": [],
   "source": []
  },
  {
   "cell_type": "markdown",
   "metadata": {},
   "source": [
    "## The code above may have been over complicating things as I need to figure out just red,red"
   ]
  },
  {
   "cell_type": "code",
   "execution_count": null,
   "metadata": {
    "collapsed": true
   },
   "outputs": [],
   "source": []
  }
 ],
 "metadata": {
  "kernelspec": {
   "display_name": "Python 3",
   "language": "python",
   "name": "python3"
  },
  "language_info": {
   "codemirror_mode": {
    "name": "ipython",
    "version": 3
   },
   "file_extension": ".py",
   "mimetype": "text/x-python",
   "name": "python",
   "nbconvert_exporter": "python",
   "pygments_lexer": "ipython3",
   "version": "3.5.1"
  }
 },
 "nbformat": 4,
 "nbformat_minor": 0
}
