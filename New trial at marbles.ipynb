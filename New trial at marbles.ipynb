{
 "cells": [
  {
   "cell_type": "code",
   "execution_count": 3,
   "metadata": {
    "collapsed": true
   },
   "outputs": [],
   "source": [
    "import random"
   ]
  },
  {
   "cell_type": "markdown",
   "metadata": {},
   "source": [
    "## This is testing code to get blue"
   ]
  },
  {
   "cell_type": "code",
   "execution_count": 27,
   "metadata": {
    "collapsed": false
   },
   "outputs": [
    {
     "name": "stdout",
     "output_type": "stream",
     "text": [
      "0.22\n"
     ]
    }
   ],
   "source": [
    "iterations = 100\n",
    "marble_red = 8\n",
    "marble_blue = 4\n",
    "marbles_total = 12\n",
    "red_count = 0\n",
    "blue_count = 0\n",
    "\n",
    "for i in range(iterations):\n",
    "    blue_number = marble_blue/marbles_total\n",
    "    if random.random() < blue_number:\n",
    "        blue_count +=1\n",
    "answer_blue = blue_count/iterations\n",
    "print(answer_blue)\n"
   ]
  },
  {
   "cell_type": "markdown",
   "metadata": {},
   "source": [
    "## This is code to get red and blue"
   ]
  },
  {
   "cell_type": "code",
   "execution_count": 30,
   "metadata": {
    "collapsed": false
   },
   "outputs": [
    {
     "name": "stdout",
     "output_type": "stream",
     "text": [
      "0.3334279\n",
      "0.6668795\n"
     ]
    }
   ],
   "source": [
    "iterations = 10000000\n",
    "marble_red = 8\n",
    "marble_blue = 4\n",
    "marbles_total = 12\n",
    "red_count = 0\n",
    "blue_count = 0\n",
    "\n",
    "for i in range(iterations):\n",
    "    blue_number = marble_blue/marbles_total\n",
    "    if random.random() < blue_number:\n",
    "        blue_count +=1\n",
    "answer_blue = blue_count/iterations\n",
    "print(answer_blue)\n",
    "\n",
    "for i in range(iterations):\n",
    "    red_number = marble_red/marbles_total\n",
    "    if random.random() < red_number:\n",
    "        red_count +=1\n",
    "answer_red = red_count/iterations\n",
    "print(answer_red)"
   ]
  },
  {
   "cell_type": "markdown",
   "metadata": {},
   "source": [
    "## This is first attempt at coding the in class probability question to get all 6 permutations( red - blue - red,red - red,blue - blue,red - blue,blue)"
   ]
  },
  {
   "cell_type": "code",
   "execution_count": 31,
   "metadata": {
    "collapsed": false
   },
   "outputs": [
    {
     "name": "stdout",
     "output_type": "stream",
     "text": [
      "0.33167\n",
      "red\n",
      "0.669\n",
      "blue\n",
      "0.66437\n",
      "red,blue\n",
      "1.33502\n",
      "red,red\n",
      "0.99855\n",
      "blue,red\n",
      "2.00475\n"
     ]
    }
   ],
   "source": [
    "iterations = 100000\n",
    "marble_red = 8\n",
    "marble_blue = 4\n",
    "marbles_total = 12\n",
    "red_count = 0\n",
    "blue_count = 0\n",
    "\n",
    "for i in range(iterations):\n",
    "    blue_number = marble_blue/marbles_total\n",
    "    if random.random() < blue_number:\n",
    "        blue_count +=1\n",
    "answer_blue = blue_count/iterations\n",
    "print(answer_blue)\n",
    "print(\"red\")\n",
    "\n",
    "for i in range(iterations):\n",
    "    red_number = marble_red/marbles_total\n",
    "    if random.random() < red_number:\n",
    "        red_count +=1\n",
    "answer_red = red_count/iterations\n",
    "print(answer_red)\n",
    "print(\"blue\")\n",
    "\n",
    "if answer_red:\n",
    "    for i in range(iterations -1):\n",
    "        blue_number = marble_blue/marbles_total\n",
    "        if random.random() < blue_number:\n",
    "                blue_count +=1\n",
    "    answer_blue = blue_count/iterations\n",
    "    print(answer_blue)\n",
    "    print(\"red,blue\")\n",
    "\n",
    "    for i in range(iterations - 1):\n",
    "        red_number = marble_red/marbles_total\n",
    "        if random.random() < red_number:\n",
    "                red_count +=1\n",
    "    answer_red = red_count/iterations\n",
    "    print(answer_red)\n",
    "    print(\"red,red\")\n",
    "    \n",
    "if answer_blue:\n",
    "    for i in range(iterations -1):\n",
    "        blue_number = marble_blue/marbles_total\n",
    "        if random.random() < blue_number:\n",
    "                blue_count +=1\n",
    "    answer_blue = blue_count/iterations\n",
    "    print(answer_blue)\n",
    "    print(\"blue,red\")\n",
    "\n",
    "    for i in range(iterations - 1):\n",
    "        red_number = marble_red/marbles_total\n",
    "        if random.random() < red_number:\n",
    "                red_count +=1\n",
    "    answer_red = red_count/iterations\n",
    "    print(answer_red)"
   ]
  },
  {
   "cell_type": "code",
   "execution_count": null,
   "metadata": {
    "collapsed": true
   },
   "outputs": [],
   "source": []
  },
  {
   "cell_type": "markdown",
   "metadata": {},
   "source": [
    "## The code above may have been over complicating things as I need to figure out just red,red"
   ]
  },
  {
   "cell_type": "code",
   "execution_count": 20,
   "metadata": {
    "collapsed": false
   },
   "outputs": [
    {
     "name": "stdout",
     "output_type": "stream",
     "text": [
      "0.33302\n",
      "red\n",
      "0.66492\n",
      "blue\n",
      "0.66387\n",
      "red,blue\n",
      "1.32943\n",
      "red,red\n",
      "0.99844\n",
      "blue,red\n",
      "1.99622\n"
     ]
    }
   ],
   "source": [
    "iterations = 100000\n",
    "marble_red = 8\n",
    "marble_blue = 4\n",
    "marbles_total = 12\n",
    "red_count = 0\n",
    "blue_count = 0\n",
    "\n",
    "for i in range(iterations):\n",
    "    blue_number = marble_blue/marbles_total\n",
    "    if random.random() < blue_number:\n",
    "        blue_count +=1\n",
    "answer_blue = blue_count/iterations\n",
    "print(answer_blue)\n",
    "print(\"red\")\n",
    "\n",
    "for i in range(iterations):\n",
    "    red_number = marble_red/marbles_total\n",
    "    if random.random() < red_number:\n",
    "        red_count +=1\n",
    "answer_red = red_count/iterations\n",
    "print(answer_red)\n",
    "print(\"blue\")\n",
    "\n",
    "if answer_red:\n",
    "    for i in range(iterations -1):\n",
    "        blue_number = marble_blue/marbles_total\n",
    "        if random.random() < blue_number:\n",
    "                blue_count +=1\n",
    "    answer_blue = blue_count/iterations\n",
    "    print(answer_blue)\n",
    "    print(\"red,blue\")\n",
    "\n",
    "    for i in range(iterations - 1):\n",
    "        red_number = marble_red/marbles_total\n",
    "        if random.random() < red_number:\n",
    "                red_count +=1\n",
    "    answer_red = red_count/iterations\n",
    "    print(answer_red)\n",
    "    print(\"red,red\")\n",
    "    \n",
    "if answer_blue:\n",
    "    for i in range(iterations -1):\n",
    "        blue_number = marble_blue/marbles_total\n",
    "        if random.random() < blue_number:\n",
    "                blue_count +=1\n",
    "    answer_blue = blue_count/iterations\n",
    "    print(answer_blue)\n",
    "    print(\"blue,red\")\n",
    "\n",
    "    for i in range(iterations - 1):\n",
    "        red_number = marble_red/marbles_total\n",
    "        if random.random() < red_number:\n",
    "                red_count +=1\n",
    "    answer_red = red_count/iterations\n",
    "    print(answer_red)"
   ]
  },
  {
   "cell_type": "code",
   "execution_count": 19,
   "metadata": {
    "collapsed": false
   },
   "outputs": [
    {
     "name": "stdout",
     "output_type": "stream",
     "text": [
      "bad luck\n"
     ]
    }
   ],
   "source": [
    "iterations = 10000\n",
    "marble_red = 8\n",
    "marble_blue = 4\n",
    "marbles_total = 12\n",
    "red_count = 0\n",
    "blue_count = 0\n",
    "\n",
    "for i in range(iterations):\n",
    "    red_number = marble_red/marbles_total\n",
    "    if random.random() < red_number:\n",
    "            red_count +=1\n",
    "            marble_red -=1\n",
    "            marble_total =-1\n",
    "            red_number = marble_red/marbles_total\n",
    "            if random.random() < red_number:\n",
    "                red_count +=1\n",
    "                marble_red -=1\n",
    "                marble_total =-1\n",
    "                \n",
    "if red_count == 2:\n",
    "    print(\"red,red\")\n",
    "else:\n",
    "    print(\"bad luck\")"
   ]
  },
  {
   "cell_type": "markdown",
   "metadata": {},
   "source": [
    "## Changing a few things to find out which coloured ball has been pulled out"
   ]
  },
  {
   "cell_type": "code",
   "execution_count": 38,
   "metadata": {
    "collapsed": false
   },
   "outputs": [
    {
     "name": "stdout",
     "output_type": "stream",
     "text": [
      "Red Count:  0\n",
      "Red Marbles Left:  8\n",
      "Total Marbles Left:  12\n",
      "Red Count:  1\n",
      "Red Marbles Left:  7\n",
      "Total Marbles Left:  11\n",
      "Red Count:  1\n",
      "Red Marbles Left:  7\n",
      "Total Marbles Left:  11\n",
      "Red Count:  2\n",
      "Red Marbles Left:  6\n",
      "Total Marbles Left:  10\n",
      "Red Count:  2\n",
      "Red Marbles Left:  6\n",
      "Total Marbles Left:  10\n",
      "Blue Count:  1\n",
      "Blue Marbles Left:  3\n",
      "Total Marbles Left:  9\n",
      "Red Count:  2\n",
      "Red Marbles Left:  6\n",
      "Total Marbles Left:  9\n",
      "Red Count:  3\n",
      "Red Marbles Left:  5\n",
      "Total Marbles Left:  8\n",
      "Red Count:  4\n",
      "Red Marbles Left:  4\n",
      "Total Marbles Left:  7\n",
      "Red Count:  4\n",
      "Red Marbles Left:  4\n",
      "Total Marbles Left:  7\n",
      "Blue Count:  2\n",
      "Blue Marbles Left:  2\n",
      "Total Marbles Left:  6\n",
      "Red Count:  4\n",
      "Red Marbles Left:  4\n",
      "Total Marbles Left:  6\n",
      "Red Count:  5\n",
      "Red Marbles Left:  3\n",
      "Total Marbles Left:  5\n",
      "Red Count:  6\n",
      "Red Marbles Left:  2\n",
      "Total Marbles Left:  4\n",
      "Red Count:  6\n",
      "Red Marbles Left:  2\n",
      "Total Marbles Left:  4\n",
      "Red Count:  6\n",
      "Red Marbles Left:  2\n",
      "Total Marbles Left:  4\n",
      "Blue Count:  3\n",
      "Blue Marbles Left:  1\n",
      "Total Marbles Left:  3\n",
      "Blue Count:  4\n",
      "Blue Marbles Left:  0\n",
      "Total Marbles Left:  2\n",
      "Red Count:  6\n",
      "Red Marbles Left:  2\n",
      "Total Marbles Left:  2\n",
      "Red Count:  7\n",
      "Red Marbles Left:  1\n",
      "Total Marbles Left:  1\n",
      "Red Count:  8\n",
      "Red Marbles Left:  0\n",
      "Total Marbles Left:  0\n"
     ]
    },
    {
     "ename": "ZeroDivisionError",
     "evalue": "division by zero",
     "output_type": "error",
     "traceback": [
      "\u001b[0;31m---------------------------------------------------------------------------\u001b[0m",
      "\u001b[0;31mZeroDivisionError\u001b[0m                         Traceback (most recent call last)",
      "\u001b[0;32m<ipython-input-38-3a0e270b26c9>\u001b[0m in \u001b[0;36m<module>\u001b[0;34m()\u001b[0m\n\u001b[1;32m      7\u001b[0m \u001b[1;33m\u001b[0m\u001b[0m\n\u001b[1;32m      8\u001b[0m \u001b[1;32mfor\u001b[0m \u001b[0mi\u001b[0m \u001b[1;32min\u001b[0m \u001b[0mrange\u001b[0m\u001b[1;33m(\u001b[0m\u001b[0miterations\u001b[0m\u001b[1;33m)\u001b[0m\u001b[1;33m:\u001b[0m\u001b[1;33m\u001b[0m\u001b[0m\n\u001b[0;32m----> 9\u001b[0;31m     \u001b[0mred_number\u001b[0m \u001b[1;33m=\u001b[0m \u001b[0mmarble_red\u001b[0m\u001b[1;33m/\u001b[0m\u001b[0mmarble_total\u001b[0m\u001b[1;33m\u001b[0m\u001b[0m\n\u001b[0m\u001b[1;32m     10\u001b[0m     \u001b[0mblue_number\u001b[0m \u001b[1;33m=\u001b[0m \u001b[0mmarble_blue\u001b[0m\u001b[1;33m/\u001b[0m\u001b[0mmarble_total\u001b[0m\u001b[1;33m\u001b[0m\u001b[0m\n\u001b[1;32m     11\u001b[0m     \u001b[0mprint\u001b[0m \u001b[1;33m(\u001b[0m\u001b[1;34m\"Red Count: \"\u001b[0m\u001b[1;33m,\u001b[0m \u001b[0mred_count\u001b[0m\u001b[1;33m)\u001b[0m\u001b[1;33m\u001b[0m\u001b[0m\n",
      "\u001b[0;31mZeroDivisionError\u001b[0m: division by zero"
     ]
    }
   ],
   "source": [
    "iterations = 10\n",
    "marble_red = 8\n",
    "marble_blue = 4\n",
    "marble_total = 12\n",
    "red_count = 0\n",
    "blue_count = 0\n",
    "\n",
    "for i in range(iterations):\n",
    "    red_number = marble_red/marble_total\n",
    "    blue_number = marble_blue/marble_total\n",
    "    print (\"Red Count: \", red_count)\n",
    "    print (\"Red Marbles Left: \", marble_red)\n",
    "    print (\"Total Marbles Left: \", marble_total)\n",
    "   \n",
    "    if random.random() < red_number:\n",
    "        red_count +=1\n",
    "        marble_red -=1\n",
    "        marble_total -=1\n",
    "        red_number = marble_red/marble_total\n",
    "        print (\"Red Count: \", red_count)\n",
    "        print (\"Red Marbles Left: \", marble_red)\n",
    "        print (\"Total Marbles Left: \", marble_total)\n",
    "        if random.random() < red_number:\n",
    "            red_count +=1\n",
    "            marble_red -=1\n",
    "            marble_total -=1\n",
    "            print (\"Red Count: \", red_count)\n",
    "            print (\"Red Marbles Left: \", marble_red)\n",
    "            print (\"Total Marbles Left: \", marble_total)\n",
    "           \n",
    "        elif random.random() < blue_number:\n",
    "            blue_count +=1\n",
    "            marble_blue -= 1\n",
    "            marble_total -= 1\n",
    "            print (\"Blue Count: \",blue_count)\n",
    "            print (\"Blue Marbles Left: \",marble_blue)\n",
    "            print (\"Total Marbles Left: \",marble_total)\n",
    "            \n",
    "            \n",
    "    elif random.random() < blue_number:\n",
    "        blue_count +=1\n",
    "        marble_blue -=1\n",
    "        marble_total -=1\n",
    "        blue_number = marble_blue/marble_total\n",
    "        print (\"Blue Count: \", blue_count)\n",
    "        print (\"Blue Marbles Left: \", marble_blue)\n",
    "        print (\"Total Marbles Left: \", marble_total)\n",
    "        if random.random() < red_number:\n",
    "            blue_count +=1\n",
    "            marble_blue -=1\n",
    "            marble_total -=1\n",
    "            print (\"Blue Count: \", blue_count)\n",
    "            print (\"Blue Marbles Left: \", marble_red)\n",
    "            print (\"Total Marbles Left: \", marble_total)\n",
    "           \n",
    "        elif random.random() < blue_number:\n",
    "            blue_count +=1\n",
    "            marble_blue -= 1\n",
    "            marble_total -= 1\n",
    "            print (\"Blue Count: \",blue_count)\n",
    "            print (\"Blue Marbles Left: \",marble_blue)\n",
    "            print (\"Total Marbles Left: \",marble_total)\n",
    "            \n",
    "    \n",
    "   \n",
    "                \n",
    "   "
   ]
  },
  {
   "cell_type": "markdown",
   "metadata": {},
   "source": [
    "### Simplfying the code to display the name of the ball that is pulled out"
   ]
  },
  {
   "cell_type": "code",
   "execution_count": 58,
   "metadata": {
    "collapsed": false
   },
   "outputs": [
    {
     "name": "stdout",
     "output_type": "stream",
     "text": [
      "Red, Red\n",
      "Blue, Blue\n",
      "Red, Red\n",
      "Red, Red\n",
      "Red, Red\n",
      "Red, Red\n",
      "Blue, Blue\n"
     ]
    }
   ],
   "source": [
    "iterations = 10\n",
    "marble_red = 8\n",
    "marble_blue = 4\n",
    "marble_total = 12\n",
    "red_count = 0\n",
    "blue_count = 0\n",
    "red_and_red = 0\n",
    "red_and_blue = 0\n",
    "blue_and_blue = 0\n",
    "blue_and_red = 0\n",
    "red_number = marble_red/marble_total\n",
    "blue_number = marble_blue/marble_total\n",
    "\n",
    "for i in range(iterations):\n",
    "    \n",
    "\n",
    "    if random.random() < red_number:\n",
    "        red_count +=1\n",
    "        marble_red -=1\n",
    "        marble_total -=1\n",
    "        \n",
    "       \n",
    "        if random.random() < red_number:\n",
    "            red_count +=1\n",
    "            marble_red -=1\n",
    "            marble_total -=1\n",
    "            print(\"Red, Red\")\n",
    "           \n",
    "           \n",
    "        elif random.random() < blue_number:\n",
    "            blue_count +=1\n",
    "            marble_blue -= 1\n",
    "            marble_total -= 1\n",
    "            print(\"Red, Blue\")\n",
    "            \n",
    "          \n",
    "            \n",
    "    elif random.random() < blue_number:\n",
    "        blue_count +=1\n",
    "        marble_blue -=1\n",
    "        marble_total -=1\n",
    "        \n",
    "        \n",
    "        if random.random() < red_number:\n",
    "            blue_count +=1\n",
    "            marble_blue -=1\n",
    "            marble_total -=1\n",
    "            print(\"Blue, Blue\")\n",
    "           \n",
    "        \n",
    "        elif random.random() < red_number:\n",
    "            red_count +=1\n",
    "            marble_red -= 1\n",
    "            marble_total -= 1\n",
    "            print(\"Blue, Red\")\n",
    "           \n",
    "           "
   ]
  },
  {
   "cell_type": "markdown",
   "metadata": {},
   "source": [
    "### A breakdown of 100000 iterations and how many times each ball comes out in in sequence"
   ]
  },
  {
   "cell_type": "code",
   "execution_count": 83,
   "metadata": {
    "collapsed": false
   },
   "outputs": [
    {
     "name": "stdout",
     "output_type": "stream",
     "text": [
      "Red, Red:  44461 , Shown as a % of iterations:  44.461 %\n",
      "Red, Blue:  22106 , Shown as a % of iterations:  22.106 %\n",
      "Blue, Red:  22231 , Shown as a % of iterations:  22.231 %\n",
      "Blue, Blue:  11202 , Shown as a % of iterations:  11.202 %\n"
     ]
    }
   ],
   "source": [
    "iterations = 100000\n",
    "marble_red = 8\n",
    "marble_blue = 4\n",
    "marble_total = 12\n",
    "red_count = 0\n",
    "blue_count = 0\n",
    "red_and_red = 0\n",
    "red_and_blue = 0\n",
    "blue_and_blue = 0\n",
    "blue_and_red = 0\n",
    "red_number = marble_red/marble_total\n",
    "blue_number = marble_blue/marble_total\n",
    "\n",
    "for i in range(iterations):\n",
    "\n",
    "    if random.random() < red_number:\n",
    "        red_count += 1\n",
    "        marble_red -= 1\n",
    "        marble_total -= 1\n",
    "       \n",
    "       \n",
    "        if random.random() < red_number:\n",
    "            red_count += 1\n",
    "            marble_red -= 1\n",
    "            marble_total -= 1\n",
    "            red_and_red += 1\n",
    "           \n",
    "           \n",
    "        else:\n",
    "            blue_count += 1\n",
    "            marble_blue -= 1\n",
    "            marble_total -= 1\n",
    "            red_and_blue += 1\n",
    "           \n",
    "            \n",
    "          \n",
    "            \n",
    "    else:\n",
    "        blue_count += 1\n",
    "        marble_blue -= 1\n",
    "        marble_total -= 1\n",
    "        \n",
    "        \n",
    "        if random.random() < red_number:\n",
    "            blue_count += 1\n",
    "            marble_blue -= 1\n",
    "            marble_total -= 1\n",
    "            blue_and_red += 1\n",
    "           \n",
    "           \n",
    "        \n",
    "        else:\n",
    "            red_count += 1\n",
    "            marble_red -= 1\n",
    "            marble_total -= 1\n",
    "            blue_and_blue += 1\n",
    "            \n",
    " \n",
    "print(\"Red, Red: \", red_and_red, \", Shown as a % of iterations: \", (red_and_red/iterations)* 100, \"%\")\n",
    "print(\"Red, Blue: \", red_and_blue, \", Shown as a % of iterations: \", (red_and_blue/iterations)* 100, \"%\")\n",
    "print(\"Blue, Red: \",blue_and_red, \", Shown as a % of iterations: \", (blue_and_red/iterations)* 100, \"%\")\n",
    "print(\"Blue, Blue: \", blue_and_blue, \", Shown as a % of iterations: \", (blue_and_blue/iterations)* 100, \"%\")\n"
   ]
  },
  {
   "cell_type": "code",
   "execution_count": null,
   "metadata": {
    "collapsed": true
   },
   "outputs": [],
   "source": []
  }
 ],
 "metadata": {
  "kernelspec": {
   "display_name": "Python 3",
   "language": "python",
   "name": "python3"
  },
  "language_info": {
   "codemirror_mode": {
    "name": "ipython",
    "version": 3
   },
   "file_extension": ".py",
   "mimetype": "text/x-python",
   "name": "python",
   "nbconvert_exporter": "python",
   "pygments_lexer": "ipython3",
   "version": "3.6.0"
  }
 },
 "nbformat": 4,
 "nbformat_minor": 0
}
